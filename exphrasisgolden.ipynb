{
 "cells": [
  {
   "cell_type": "markdown",
   "metadata": {
    "colab_type": "text",
    "id": "view-in-github"
   },
   "source": [
    "<a href=\"https://colab.research.google.com/github/sayarghoshroy/Hate-Speech-Detection/blob/master/dataset_creation/tweet_processor.ipynb\" target=\"_parent\"><img src=\"https://colab.research.google.com/assets/colab-badge.svg\" alt=\"Open In Colab\"/></a>"
   ]
  },
  {
   "cell_type": "code",
   "execution_count": 27,
   "metadata": {
    "id": "5SzZYXq3ER6b"
   },
   "outputs": [],
   "source": [
    "import pandas as pd\n",
    "import xlrd\n",
    "import re\n",
    "import pickle\n",
    "import csv"
   ]
  },
  {
   "cell_type": "code",
   "execution_count": 28,
   "metadata": {
    "colab": {
     "base_uri": "https://localhost:8080/",
     "height": 338
    },
    "id": "cOqUHRECEX9o",
    "outputId": "4ec4770f-ea54-4ee0-e3a4-2661629c52ee"
   },
   "outputs": [
    {
     "name": "stdout",
     "output_type": "stream",
     "text": [
      "Reading twitter - 1grams ...\n",
      "Reading twitter - 2grams ...\n"
     ]
    }
   ],
   "source": [
    "# Uncomment if you're running it for the first time\n",
    "# !pip install ekphrasis\n",
    "from ekphrasis.classes.segmenter import Segmenter\n",
    "# to leverage word statistics from Twitter\n",
    "seg_tw = Segmenter(corpus = \"twitter\")"
   ]
  },
  {
   "cell_type": "code",
   "execution_count": 29,
   "metadata": {
    "colab": {
     "base_uri": "https://localhost:8080/",
     "height": 35
    },
    "id": "cvfnKs-dEZwN",
    "outputId": "06a34c8d-e6e1-4842-8f9f-dca10138b77c"
   },
   "outputs": [],
   "source": [
    "# Uncomment if you're running it for the first time\n",
    "# !pip install tweet-preprocessor\n",
    "import preprocessor as tweet_proc"
   ]
  },
  {
   "cell_type": "code",
   "execution_count": 30,
   "metadata": {
    "colab": {
     "base_uri": "https://localhost:8080/",
     "height": 35
    },
    "id": "Wk2BUZTuEdN1",
    "outputId": "86fc9ba1-de39-4992-a083-9a760455c35a"
   },
   "outputs": [],
   "source": [
    "# Uncomment if you're running it for the first time\n",
    "# !pip install emot\n",
    "from emot.emo_unicode import UNICODE_EMO, EMOTICONS"
   ]
  },
  {
   "cell_type": "markdown",
   "metadata": {
    "id": "HqibDmdYEjIK"
   },
   "source": [
    "#### *Raw Datasets are hosted [here](https://drive.google.com/drive/folders/1TuHRQQ41lK9oXJhlhsRiMjMnczuKn_kF?usp=sharing).*"
   ]
  },
  {
   "cell_type": "code",
   "execution_count": 31,
   "metadata": {
    "colab": {
     "base_uri": "https://localhost:8080/",
     "height": 35
    },
    "id": "SmRsC-wmEhdx",
    "outputId": "dc25dd60-4bb2-40a9-a8a4-6d367cf96c85"
   },
   "outputs": [],
   "source": [
    "# from google.colab import drive\n",
    "# drive.mount('/content/drive', force_remount = True)"
   ]
  },
  {
   "cell_type": "code",
   "execution_count": 32,
   "metadata": {
    "id": "fD2Ksnv6EmaS"
   },
   "outputs": [],
   "source": [
    "def make_list(proc_obj):\n",
    "  if proc_obj == None:\n",
    "    return []\n",
    "  \n",
    "  store = []\n",
    "  for unit in proc_obj:\n",
    "    store.append(unit.match)\n",
    "  \n",
    "  return store\n",
    "\n",
    "def emotext(text):\n",
    "    for emot in UNICODE_EMO:\n",
    "        text = text.replace(emot, \"_\".join(UNICODE_EMO[emot].replace(\",\", \"\").replace(\":\", \"\").split()))\n",
    "    return text"
   ]
  },
  {
   "cell_type": "code",
   "execution_count": 33,
   "metadata": {
    "id": "PI524oqVE026"
   },
   "outputs": [],
   "source": [
    "# For 2020 Datasets\n",
    "\n",
    "is_hindi = 0\n",
    "\n",
    "# For Train Data\n",
    "# datatype = \"train\"\n",
    "# For English\n",
    "# file_name = \"/content/drive/My Drive/HASOC_raw_data/2020_data/english.xlsx\"\n",
    "\n",
    "# For Hindi\n",
    "# file_name = \"/content/drive/My Drive/HASOC_raw_data/2020_data/hindi.xlsx\"\n",
    "# is_hindi = 1\n",
    "\n",
    "# For German\n",
    "# file_name = \"/content/drive/My Drive/HASOC_raw_data/2020_data/german.xlsx\"\n",
    "\n",
    "# For Test Data\n",
    "datatype = \"train\"\n",
    "# For English\n",
    "file_name = \"data/golden.csv\"\n",
    "\n",
    "# For Hindi\n",
    "# file_name = \"/content/drive/My Drive/HASOC_raw_data/2020_test_data/hindi_test_1509.csv\"\n",
    "# is_hindi = 1\n",
    "\n",
    "# For German\n",
    "# file_name = \"/content/drive/My Drive/HASOC_raw_data/2020_test_data/german_test_1509.csv\""
   ]
  },
  {
   "cell_type": "code",
   "execution_count": 34,
   "metadata": {
    "id": "nNNoGyv8E5th"
   },
   "outputs": [],
   "source": [
    "# Initializing Lists\n",
    "datapoints_count = 0\n",
    "see_index = True\n",
    "\n",
    "tweets = []\n",
    "raw_tweet_texts = []\n",
    "tokenized_tweets = []\n",
    "hashtags = []\n",
    "smileys = []\n",
    "emojis = []\n",
    "urls = []\n",
    "mentions = []\n",
    "numbers = []\n",
    "reserveds = []\n",
    "user_ID = []\n",
    "task_1_labels = []\n",
    "task_2_labels = []\n",
    "tweet_ids = []\n",
    "hasoc_ID = []"
   ]
  },
  {
   "cell_type": "code",
   "execution_count": 35,
   "metadata": {
    "id": "nsKZHtQ-FvOw"
   },
   "outputs": [],
   "source": [
    "def strip_list(listie):\n",
    "  stripped = []\n",
    "  for item in listie:\n",
    "    stripped.append(item.strip())\n",
    "  return stripped\n",
    "\n",
    "def hindi_clean(line, parse_obj):\n",
    "  # beta\n",
    "  tokens = line.replace(\":\", \" : \").replace(\",\", \" , \").replace(\";\", \" ; \").split(\" \")\n",
    "  valid_stri = \"\"\n",
    "\n",
    "  for raw_token in tokens:\n",
    "    token = raw_token.strip()\n",
    "    if token in strip_list(make_list(parse_obj.hashtags)):\n",
    "      continue\n",
    "    if token in strip_list(make_list(parse_obj.smileys)):\n",
    "      continue\n",
    "    if token in strip_list(make_list(parse_obj.emojis)):\n",
    "      continue\n",
    "    if token in strip_list(make_list(parse_obj.urls)):\n",
    "      continue\n",
    "    if token in strip_list(make_list(parse_obj.mentions)):\n",
    "      continue\n",
    "    if token in strip_list(make_list(parse_obj.numbers)):\n",
    "      continue\n",
    "    if token in strip_list(make_list(parse_obj.reserved)):\n",
    "      continue\n",
    "    valid_stri = valid_stri + \" \" + token\n",
    "  return valid_stri.strip()"
   ]
  },
  {
   "cell_type": "code",
   "execution_count": 36,
   "metadata": {
    "id": "0TuJvskdE95H"
   },
   "outputs": [
    {
     "name": "stdout",
     "output_type": "stream",
     "text": [
      "Number of Datapoints: 532\n"
     ]
    }
   ],
   "source": [
    "if datatype == 'train':\n",
    "#     workbook = xlrd.open_workbook(file_name)\n",
    "#     sheet = workbook.sheet_by_index(0)\n",
    "\n",
    "#     for row in range(sheet.nrows):\n",
    "#         line = sheet.row_values(row)\n",
    "\n",
    "    file = open(file_name, 'r')\n",
    "    file_reader = csv.reader(file, delimiter = \",\")\n",
    "    flag = 0\n",
    "    for line in file_reader:\n",
    "        if see_index == True:\n",
    "            see_index = False\n",
    "            continue\n",
    "#         print(line)\n",
    "#         flag += 1\n",
    "#         if flag == 2:\n",
    "#             break\n",
    "        datapoints_count += 1\n",
    "#         tweet_ids.append(line[1])\n",
    "        task_1_labels.append(line[1])\n",
    "#         task_2_labels.append(line[3])\n",
    "#         user_ID.append(line[3])\n",
    "        tweets.append(line[0].replace(\"\\n\", \" \"))\n",
    "\n",
    "        parse_obj = tweet_proc.parse(line[0].replace(\"\\n\", \" \"))\n",
    "        tokenized_tweets.append(tweet_proc.tokenize(line[0].replace(\"\\n\", \" \")))\n",
    "        hashtags.append(strip_list(make_list(parse_obj.hashtags)))\n",
    "        smileys.append(strip_list(make_list(parse_obj.smileys)))\n",
    "        emojis.append(strip_list(make_list(parse_obj.emojis)))\n",
    "        urls.append(strip_list(make_list(parse_obj.urls)))\n",
    "        mentions.append(strip_list(make_list(parse_obj.mentions)))\n",
    "        numbers.append(strip_list(make_list(parse_obj.numbers)))\n",
    "        reserveds.append(strip_list(make_list(parse_obj.reserved)))\n",
    "\n",
    "        if is_hindi == 0:\n",
    "          raw_tweet_texts.append(tweet_proc.clean(line[0].replace(\"\\n\", \" \")))\n",
    "        else:\n",
    "          raw_tweet_texts.append(hindi_clean(line[0].replace(\"\\n\", \" \"), parse_obj))\n",
    "\n",
    "    print(\"Number of Datapoints: \" + str(datapoints_count))"
   ]
  },
  {
   "cell_type": "code",
   "execution_count": 37,
   "metadata": {
    "colab": {
     "base_uri": "https://localhost:8080/",
     "height": 35
    },
    "id": "9gtRGkIkNmIv",
    "outputId": "8a0715aa-55a2-459c-ceed-94666fe0c387"
   },
   "outputs": [],
   "source": [
    "if datatype == 'test':\n",
    "    file = open(file_name, 'r')\n",
    "    file_reader = csv.reader(file, delimiter = \",\")\n",
    "    for line in file_reader:\n",
    "        if see_index == True:\n",
    "            see_index = False\n",
    "            continue\n",
    "\n",
    "        datapoints_count += 1\n",
    "        tweet_ids.append(line[0])\n",
    "        task_1_labels.append(line[2])\n",
    "        task_2_labels.append(line[3])\n",
    "        hasoc_ID.append(line[4])\n",
    "        tweets.append(line[1].replace(\"\\n\", \" \"))\n",
    "\n",
    "        parse_obj = tweet_proc.parse(line[1].replace(\"\\n\", \" \"))\n",
    "        tokenized_tweets.append(tweet_proc.tokenize(line[1].replace(\"\\n\", \" \")))\n",
    "        hashtags.append(strip_list(make_list(parse_obj.hashtags)))\n",
    "        smileys.append(strip_list(make_list(parse_obj.smileys)))\n",
    "        emojis.append(strip_list(make_list(parse_obj.emojis)))\n",
    "        urls.append(strip_list(make_list(parse_obj.urls)))\n",
    "        mentions.append(strip_list(make_list(parse_obj.mentions)))\n",
    "        numbers.append(strip_list(make_list(parse_obj.numbers)))\n",
    "        reserveds.append(strip_list(make_list(parse_obj.reserved)))\n",
    "\n",
    "        if is_hindi == 0:\n",
    "          raw_tweet_texts.append(tweet_proc.clean(line[1].replace(\"\\n\", \" \")))\n",
    "        else:\n",
    "          raw_tweet_texts.append(hindi_clean(line[1].replace(\"\\n\", \" \"), parse_obj))\n",
    "\n",
    "    print(\"Number of Datapoints: \" + str(datapoints_count))"
   ]
  },
  {
   "cell_type": "code",
   "execution_count": 38,
   "metadata": {
    "colab": {
     "base_uri": "https://localhost:8080/",
     "height": 409
    },
    "id": "Gd_fy5REFxUX",
    "outputId": "f70d9fb9-2246-4c8d-f59e-5574161390b0"
   },
   "outputs": [
    {
     "name": "stdout",
     "output_type": "stream",
     "text": [
      "Tweets:\n",
      "['Nowadays IT, ED raids are based on scrutiny of Twitter accounts not buisness ledger accounts? #TaxChorBollywood  #FarmersCallBJPboycott https://t.co/9cttN3yrTF', \"100 Days of India's Voice, In this 100 Days you saw Farmers Courage, Patience, Prudent, Peace. On other hand you saw Govt's Ego, Torture &amp; Injustice. Congratulations to PM Modi for Acche Din you delivered to India.  #FarmersCallBJPboycott #FarmersProtests #100DaysOfBJParrogance https://t.co/WELIghNTCk\", 'No media showing this !!   Today marks 100 days of protests - farmers raising slogans at KMP expressway, Harayana.  Hope \"Hum Do, Hamare Do\" are listening to the voice of our farmers.   #100DaysOfBJParrogance  #FarmersCallBJPboycott https://t.co/iwMsM1IPJa', 'BJP is parasite of India... #FarmersCallBJPboycott', 'Is Modi the worst PM of India ever seen ?  #100DaysOfBJParrogance #FarmersCallBJPboycott', '100 days of protest and 248 deaths. The spirit, courage, and determination of our farmers are unbreakable!   #FarmersCallBJPboycott', 'We the people of India should stand together &amp; boycott BJP. #FarmersCallBJPboycott', 'This is truly hilarious! @nehafolksinger   Just look at them how much they are enjoying your creation and even spreading it too widely, Proud of you sister!   Nice concept video by @adarshanand1111   Congratulations to all.   #FarmersCallBJPboycott #modi_job_do #modi_rojgar_do https://t.co/t5jqojo1Rt', 'We all need to boycott anti-farmers BJP. #FarmersCallBJPboycott', \"Three black farm laws not only affect farmers.  But It affects everyone.  It's time to stand with farmers. #जयकिसान  #100DaysOfBJParrogance #FarmersCallBJPboycott   @INCIndia @HKPatil1953 @NANA_PATOLE\"]\n",
      "Raw Texts:\n",
      "['Nowadays IT, ED raids are based on scrutiny of Twitter accounts not buisness ledger accounts?', \"Days of India's Voice, In this Days you saw Farmers Courage, Patience, Prudent, Peace. On other hand you saw Govt's Ego, Torture &amp; Injustice. Congratulations to PM Modi for Acche Din you delivered to India.\", 'No media showing this !! Today marks days of protests - farmers raising slogans at KMP expressway, Harayana. Hope \"Hum Do, Hamare Do\" are listening to the voice of our farmers.', 'BJP is parasite of India...', 'Is Modi the worst PM of India ever seen ?', 'days of protest and deaths. The spirit, courage, and determination of our farmers are unbreakable!', 'We the people of India should stand together &amp; boycott BJP.', 'This is truly hilarious! Just look at them how much they are enjoying your creation and even spreading it too widely, Proud of you sister! Nice concept video by Congratulations to all.', 'We all need to boycott anti-farmers BJP.', \"Three black farm laws not only affect farmers. But It affects everyone. It's time to stand with farmers.\"]\n",
      "Hashtags:\n",
      "[['#TaxChorBollywood', '#FarmersCallBJPboycott'], ['#FarmersCallBJPboycott', '#FarmersProtests', '#100DaysOfBJParrogance'], ['#100DaysOfBJParrogance', '#FarmersCallBJPboycott'], ['#FarmersCallBJPboycott'], ['#100DaysOfBJParrogance', '#FarmersCallBJPboycott'], ['#FarmersCallBJPboycott'], ['#FarmersCallBJPboycott'], ['#FarmersCallBJPboycott', '#modi_job_do', '#modi_rojgar_do'], ['#FarmersCallBJPboycott'], ['#जयक', '#100DaysOfBJParrogance', '#FarmersCallBJPboycott']]\n",
      "Smileys:\n",
      "[[], [], [], [], [], [], [], [], [], []]\n",
      "Emojis:\n",
      "[[], [], [], [], [], [], [], [], [], []]\n",
      "Urls:\n",
      "[['https://t.co/9cttN3yrTF'], ['https://t.co/WELIghNTCk'], ['https://t.co/iwMsM1IPJa'], [], [], [], [], ['https://t.co/t5jqojo1Rt'], [], []]\n",
      "Mentions:\n",
      "[[], [], [], [], [], [], [], ['@nehafolksinger', '@adarshanand1111'], [], ['@INCIndia', '@HKPatil1953', '@NANA_PATOLE']]\n",
      "Numbers:\n",
      "[[], ['100', '100'], ['100'], [], [], ['100', '248'], [], [], [], []]\n",
      "Reserved Words:\n",
      "[[], [], [], [], [], [], [], [], [], []]\n",
      "Task Labels:\n",
      "['1', '1', '1', '1', '1', '1', '1', '0', '1', '1']\n",
      "[]\n"
     ]
    }
   ],
   "source": [
    "# Viewing Created Dataset\n",
    "display_size = 10\n",
    "start = 100\n",
    "\n",
    "print(\"Tweets:\")\n",
    "print(tweets[start: start + display_size])\n",
    "\n",
    "print(\"Raw Texts:\")\n",
    "print(raw_tweet_texts[start: start + display_size])\n",
    "\n",
    "print(\"Hashtags:\")\n",
    "print(hashtags[start: start + display_size])\n",
    "\n",
    "print(\"Smileys:\")\n",
    "print(smileys[start: start + display_size])\n",
    "\n",
    "print(\"Emojis:\")\n",
    "print(emojis[start: start + display_size])\n",
    "\n",
    "print(\"Urls:\")\n",
    "print(urls[start: start + display_size])\n",
    "\n",
    "print(\"Mentions:\")\n",
    "print(mentions[start: start + display_size])\n",
    "\n",
    "print(\"Numbers:\")\n",
    "print(numbers[start: start + display_size])\n",
    "\n",
    "print(\"Reserved Words:\")\n",
    "print(reserveds[start: start + display_size])\n",
    "\n",
    "print(\"Task Labels:\")\n",
    "print(task_1_labels[start: start + display_size])\n",
    "print(task_2_labels[start: start + display_size])"
   ]
  },
  {
   "cell_type": "markdown",
   "metadata": {
    "id": "u6sOeB9UWE7p"
   },
   "source": [
    "### Example\n",
    "#### Raw Tweet Text\n",
    "'RT @jeonggukpics: Don’t disturb please, he is enjoying his snacks while making those little dance 😭😂😂😭💜  #BBMAsTopSocial BTS #JUNGKOOK #정국…'\n",
    "#### Clean Text\n",
    "': Dont disturb please, he is enjoying his snacks while making those little dance BTS'\n",
    "\n",
    "#### Emojis\n",
    "'['😭', '😂', '😂', '😭', '💜']'\n",
    "\n",
    "#### Hashtags\n",
    "''#BBMAsTopSocial', '#JUNGKOOK', '#정국''"
   ]
  },
  {
   "cell_type": "code",
   "execution_count": 39,
   "metadata": {
    "colab": {
     "base_uri": "https://localhost:8080/",
     "height": 52
    },
    "id": "LUrX_FPcIVQR",
    "outputId": "74d61f00-c87e-48d7-98a2-2ee5d8dc3633"
   },
   "outputs": [
    {
     "name": "stdout",
     "output_type": "stream",
     "text": [
      "Emoji Descriptions:\n",
      "[[], [], [], [], [], [], [], [], [], [], [], [], [], [], [], [], [], [], [], [], [], [], [], [], [], [], [], [], [], [], ['writing hand'], [], [], ['face with stuck-out tongue & winking eye'], [], [], [], [], [], [], [], [], [], [], [], [], [], [], [], [], [], [], [], [], [], [], [], [], [], [], [], [], [], [], [], [], [], [], [], [], [], [], [], [], [], [], [], [], [], [], [], [], [], [], [], [], [], ['dollar banknote', 'money with wings'], ['clapping hands', 'medium-light skin tone'], [], [], [], [], [], [], [], [], [], [], []]\n"
     ]
    }
   ],
   "source": [
    "# Generating Emoji Texts\n",
    "emoji_texts = []\n",
    "\n",
    "for emo_list in emojis:\n",
    "  texts = []\n",
    "  for emoji in emo_list:\n",
    "    text = emotext(emoji)\n",
    "    texts.append(text.replace(\"_\", \" \"))\n",
    "  emoji_texts.append(texts)\n",
    "\n",
    "print(\"Emoji Descriptions:\")\n",
    "print(emoji_texts[100: 200])"
   ]
  },
  {
   "cell_type": "code",
   "execution_count": 40,
   "metadata": {
    "colab": {
     "base_uri": "https://localhost:8080/",
     "height": 52
    },
    "id": "9PWvCf65IXQT",
    "outputId": "93f0c3df-ccb5-415e-c26b-a743d2157c80"
   },
   "outputs": [
    {
     "name": "stdout",
     "output_type": "stream",
     "text": [
      "Segmented Hashtags:\n",
      "[['arnab goswami'], ['arnab goswami'], ['mumbai', 'arnab goswami', 'bombay high court'], ['national', 'arnab goswami', 'east mojo'], ['arnab goswami']]\n"
     ]
    }
   ],
   "source": [
    "# Segmenting Hashtags\n",
    "segmented_hashtags = []\n",
    "\n",
    "for hashset in hashtags:\n",
    "  segmented_set = []\n",
    "  for tag in hashset:\n",
    "    word = tag[1: ]\n",
    "    # removing the hash symbol\n",
    "    segmented_set.append(seg_tw.segment(word))\n",
    "  segmented_hashtags.append(segmented_set)\n",
    "\n",
    "print(\"Segmented Hashtags:\")\n",
    "print(segmented_hashtags[0: 5])"
   ]
  },
  {
   "cell_type": "code",
   "execution_count": 41,
   "metadata": {
    "id": "UGPepLXoJsqR"
   },
   "outputs": [],
   "source": [
    "name = 'data/extracted_golden.pickle'\n",
    "dickie = {}\n",
    "# dickie['tweet_id'] = tweet_ids\n",
    "dickie['task_1'] = task_1_labels\n",
    "# dickie['task_2'] = task_2_labels\n",
    "# dickie['hasoc_id'] = hasoc_ID\n",
    "dickie['full_tweet'] = tweets\n",
    "dickie['tweet_raw_text'] = raw_tweet_texts\n",
    "dickie['hashtags'] = hashtags\n",
    "dickie['smiley'] = smileys\n",
    "dickie['emoji'] = emojis\n",
    "dickie['url'] = urls\n",
    "dickie['mentions'] = mentions\n",
    "dickie['numerals'] = numbers\n",
    "dickie['reserved_word'] = reserveds\n",
    "dickie['emotext'] = emoji_texts\n",
    "dickie['segmented_hash'] = segmented_hashtags\n",
    "# dickie['user_ID'] = user_ID\n",
    "with open(name, 'wb') as f:\n",
    "  pickle.dump(dickie, f)"
   ]
  },
  {
   "cell_type": "code",
   "execution_count": 42,
   "metadata": {
    "colab": {
     "base_uri": "https://localhost:8080/",
     "height": 35
    },
    "id": "FK4uO1J1LeIC",
    "outputId": "ec2a5973-5576-43de-93ec-db36098869df"
   },
   "outputs": [
    {
     "name": "stdout",
     "output_type": "stream",
     "text": [
      "[532, 532, 532, 532, 532, 532, 532, 532, 532, 532, 532, 532]\n"
     ]
    }
   ],
   "source": [
    "with open(name, 'rb') as f:\n",
    "  try_dict = pickle.load(f)\n",
    "\n",
    "sizes = []\n",
    "for key in try_dict.keys():\n",
    "  sizes.append(len(try_dict[key]))\n",
    "\n",
    "# Verifying if all sizes are equal\n",
    "print(sizes)"
   ]
  },
  {
   "cell_type": "code",
   "execution_count": 17,
   "metadata": {
    "id": "3FUMYDP9IaXe"
   },
   "outputs": [],
   "source": [
    "# ^_^ Thank You"
   ]
  }
 ],
 "metadata": {
  "colab": {
   "authorship_tag": "ABX9TyN56TeSpn1nZ9OhsBKdO9oL",
   "collapsed_sections": [],
   "include_colab_link": true,
   "name": "tweet_processor.ipynb",
   "provenance": []
  },
  "kernelspec": {
   "display_name": "Python 3",
   "language": "python",
   "name": "python3"
  },
  "language_info": {
   "codemirror_mode": {
    "name": "ipython",
    "version": 3
   },
   "file_extension": ".py",
   "mimetype": "text/x-python",
   "name": "python",
   "nbconvert_exporter": "python",
   "pygments_lexer": "ipython3",
   "version": "3.9.2"
  }
 },
 "nbformat": 4,
 "nbformat_minor": 4
}
