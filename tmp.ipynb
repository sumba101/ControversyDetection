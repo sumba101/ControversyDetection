{
 "cells": [
  {
   "cell_type": "code",
   "execution_count": 9,
   "id": "dietary-bible",
   "metadata": {},
   "outputs": [],
   "source": [
    "import pandas as pd\n",
    "df = pd.read_csv('dataset/golden.csv')"
   ]
  },
  {
   "cell_type": "code",
   "execution_count": 12,
   "id": "accomplished-wagon",
   "metadata": {},
   "outputs": [],
   "source": [
    "df = df[['text', 'is_cont']]\n",
    "df['is_cont'] = -1\n",
    "df.to_csv('dataset/golden.csv', index=False)"
   ]
  },
  {
   "cell_type": "code",
   "execution_count": 13,
   "id": "referenced-macintosh",
   "metadata": {},
   "outputs": [
    {
     "data": {
      "text/html": [
       "<div>\n",
       "<style scoped>\n",
       "    .dataframe tbody tr th:only-of-type {\n",
       "        vertical-align: middle;\n",
       "    }\n",
       "\n",
       "    .dataframe tbody tr th {\n",
       "        vertical-align: top;\n",
       "    }\n",
       "\n",
       "    .dataframe thead th {\n",
       "        text-align: right;\n",
       "    }\n",
       "</style>\n",
       "<table border=\"1\" class=\"dataframe\">\n",
       "  <thead>\n",
       "    <tr style=\"text-align: right;\">\n",
       "      <th></th>\n",
       "      <th>text</th>\n",
       "      <th>is_cont</th>\n",
       "    </tr>\n",
       "  </thead>\n",
       "  <tbody>\n",
       "    <tr>\n",
       "      <th>0</th>\n",
       "      <td>Love him or loathe him, whether you like his c...</td>\n",
       "      <td>-1</td>\n",
       "    </tr>\n",
       "    <tr>\n",
       "      <th>1</th>\n",
       "      <td>HC Extends Arnab’s Interim Protection in Abetm...</td>\n",
       "      <td>-1</td>\n",
       "    </tr>\n",
       "    <tr>\n",
       "      <th>2</th>\n",
       "      <td>Mumbai: HC extends Arnab's interim relief in N...</td>\n",
       "      <td>-1</td>\n",
       "    </tr>\n",
       "    <tr>\n",
       "      <th>3</th>\n",
       "      <td>#National: Shiv Sena MLA Pratap Sarnaik had su...</td>\n",
       "      <td>-1</td>\n",
       "    </tr>\n",
       "    <tr>\n",
       "      <th>4</th>\n",
       "      <td>#ArnabGoswami, who has denied charges levelled...</td>\n",
       "      <td>-1</td>\n",
       "    </tr>\n",
       "    <tr>\n",
       "      <th>...</th>\n",
       "      <td>...</td>\n",
       "      <td>...</td>\n",
       "    </tr>\n",
       "    <tr>\n",
       "      <th>531</th>\n",
       "      <td>👀 #DemiLovato’s (now deleted) Insta Story... #...</td>\n",
       "      <td>-1</td>\n",
       "    </tr>\n",
       "    <tr>\n",
       "      <th>532</th>\n",
       "      <td>The #Hot20Countdown is ON! 🔥 Who will take thi...</td>\n",
       "      <td>-1</td>\n",
       "    </tr>\n",
       "    <tr>\n",
       "      <th>533</th>\n",
       "      <td>Here's everything you need to know about #Aria...</td>\n",
       "      <td>-1</td>\n",
       "    </tr>\n",
       "    <tr>\n",
       "      <th>534</th>\n",
       "      <td>#ArianaGrande earns her milestone 30th top-40 ...</td>\n",
       "      <td>-1</td>\n",
       "    </tr>\n",
       "    <tr>\n",
       "      <th>535</th>\n",
       "      <td>🔝🔟💿🌎APPLE\\n1⃣Positions #ArianaGrande\\n2⃣LifeSu...</td>\n",
       "      <td>-1</td>\n",
       "    </tr>\n",
       "  </tbody>\n",
       "</table>\n",
       "<p>536 rows × 2 columns</p>\n",
       "</div>"
      ],
      "text/plain": [
       "                                                  text  is_cont\n",
       "0    Love him or loathe him, whether you like his c...       -1\n",
       "1    HC Extends Arnab’s Interim Protection in Abetm...       -1\n",
       "2    Mumbai: HC extends Arnab's interim relief in N...       -1\n",
       "3    #National: Shiv Sena MLA Pratap Sarnaik had su...       -1\n",
       "4    #ArnabGoswami, who has denied charges levelled...       -1\n",
       "..                                                 ...      ...\n",
       "531  👀 #DemiLovato’s (now deleted) Insta Story... #...       -1\n",
       "532  The #Hot20Countdown is ON! 🔥 Who will take thi...       -1\n",
       "533  Here's everything you need to know about #Aria...       -1\n",
       "534  #ArianaGrande earns her milestone 30th top-40 ...       -1\n",
       "535  🔝🔟💿🌎APPLE\\n1⃣Positions #ArianaGrande\\n2⃣LifeSu...       -1\n",
       "\n",
       "[536 rows x 2 columns]"
      ]
     },
     "execution_count": 13,
     "metadata": {},
     "output_type": "execute_result"
    }
   ],
   "source": [
    "df"
   ]
  },
  {
   "cell_type": "code",
   "execution_count": null,
   "id": "correct-detail",
   "metadata": {},
   "outputs": [],
   "source": []
  }
 ],
 "metadata": {
  "kernelspec": {
   "display_name": "Python 3",
   "language": "python",
   "name": "python3"
  },
  "language_info": {
   "codemirror_mode": {
    "name": "ipython",
    "version": 3
   },
   "file_extension": ".py",
   "mimetype": "text/x-python",
   "name": "python",
   "nbconvert_exporter": "python",
   "pygments_lexer": "ipython3",
   "version": "3.9.2"
  }
 },
 "nbformat": 4,
 "nbformat_minor": 5
}
